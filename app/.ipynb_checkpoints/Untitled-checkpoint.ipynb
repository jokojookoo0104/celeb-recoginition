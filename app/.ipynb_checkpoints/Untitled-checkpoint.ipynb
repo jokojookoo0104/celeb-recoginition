{
 "cells": [
  {
   "cell_type": "code",
   "execution_count": null,
   "metadata": {
    "collapsed": false
   },
   "outputs": [],
   "source": [
    "import sys\n",
    "sys.path.append('../')\n",
    "import pandas as pd\n",
    "import logging\n",
    "import pickle\n",
    "import re\n",
    "import traceback\n",
    "import os\n",
    "\n",
    "from app.utils import files\n",
    "from app import settings\n",
    "\n",
    "from model import VggFace\n",
    "from src import *"
   ]
  },
  {
   "cell_type": "code",
   "execution_count": null,
   "metadata": {
    "collapsed": false
   },
   "outputs": [],
   "source": [
    "models_available = files.get_files_matching(settings.MODELS_ROOT)\n",
    "\n",
    "models = dict()\n",
    "\n",
    "#load the models to memory only once, when the app boots\n",
    "\n",
    "for path_to_model in models_available:\n",
    "    file_name = os.path.basename(path_to_model)\n",
    "    version_id = os.path.splitext(file_name)[0]\n",
    "    models[version_id] = VggFace(path_to_model, is_origin = False)"
   ]
  },
  {
   "cell_type": "code",
   "execution_count": null,
   "metadata": {
    "collapsed": false
   },
   "outputs": [],
   "source": [
    "print(models_available)"
   ]
  },
  {
   "cell_type": "code",
   "execution_count": null,
   "metadata": {
    "collapsed": false
   },
   "outputs": [],
   "source": [
    "import os\n",
    "FOLDER = '/home/sbikevn360/ce'\n",
    "MODELS_ROOT = os.path.abspath(\"/../../trained-models/weights\")"
   ]
  },
  {
   "cell_type": "code",
   "execution_count": null,
   "metadata": {
    "collapsed": false
   },
   "outputs": [],
   "source": [
    "print(MODELS_ROOT)"
   ]
  },
  {
   "cell_type": "code",
   "execution_count": null,
   "metadata": {
    "collapsed": true
   },
   "outputs": [],
   "source": []
  }
 ],
 "metadata": {
  "kernelspec": {
   "display_name": "Python 3",
   "language": "python",
   "name": "python3"
  },
  "language_info": {
   "codemirror_mode": {
    "name": "ipython",
    "version": 3
   },
   "file_extension": ".py",
   "mimetype": "text/x-python",
   "name": "python",
   "nbconvert_exporter": "python",
   "pygments_lexer": "ipython3",
   "version": "3.6.8"
  }
 },
 "nbformat": 4,
 "nbformat_minor": 2
}
